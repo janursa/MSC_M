{
 "cells": [
  {
   "cell_type": "code",
   "execution_count": 1,
   "metadata": {},
   "outputs": [
    {
     "name": "stdout",
     "output_type": "stream",
     "text": [
      "Error is  0.009014122157816731\n"
     ]
    }
   ],
   "source": [
    "import sys\n",
    "import pathlib\n",
    "import os\n",
    "current_file = '/Users/matin/Downloads/testProjs/MSC_M/scripts'\n",
    "dir_to_dirs = os.path.join(current_file,'..')\n",
    "sys.path.insert(0,dir_to_dirs)\n",
    "from dirs import dir_to_MSC_osteogenesis\n",
    "sys.path.insert(0,dir_to_MSC_osteogenesis)\n",
    "from MSC_osteogenesis import *\n",
    "from plots import *\n",
    "from observations import observations\n",
    "if __name__ == '__main__':\n",
    "\t##/ run test simultions and plot\n",
    "\n",
    "\twith open('/Users/matin/Downloads/testProjs/MSC_M/results/inferred_params.json') as file:\n",
    "\t\tinferred_params = json.load(file)\n",
    "\t# inferred_params['maturity_t'] = .7\n",
    "\n",
    "\tobj = MSC_model(fixed_params=fixed_params,free_params = inferred_params)\n",
    "\tsimulation_results = obj.simulate_studies()\n",
    "\t# print(simulation_results)\n",
    "\terror = obj.run()\n",
    "\tprint('Error is ',error)\n",
    "\n",
    "\n",
    "\n",
    "\tfor study in observations['studies']:\n",
    "\t\tif study == 'Qiao_2021_Mg' or study == 'Ber_2016':\n",
    "\t\t\tplot_obj = Plot_bar_2(study,observations)\n",
    "\t\telse:\n",
    "\t\t\tplot_obj = Plot_bar(study,observations)\n",
    "\t\tplot_obj.plot(simulation_results[study])\n"
   ]
  }
 ],
 "metadata": {
  "kernelspec": {
   "display_name": "Python [conda env:v37_conda] *",
   "language": "python",
   "name": "conda-env-v37_conda-py"
  },
  "language_info": {
   "codemirror_mode": {
    "name": "ipython",
    "version": 3
   },
   "file_extension": ".py",
   "mimetype": "text/x-python",
   "name": "python",
   "nbconvert_exporter": "python",
   "pygments_lexer": "ipython3",
   "version": "3.7.9"
  }
 },
 "nbformat": 4,
 "nbformat_minor": 4
}
