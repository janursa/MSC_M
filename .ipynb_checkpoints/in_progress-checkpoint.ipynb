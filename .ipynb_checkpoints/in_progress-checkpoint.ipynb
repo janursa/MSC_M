{
 "cells": [
  {
   "cell_type": "code",
   "execution_count": 12,
   "metadata": {},
   "outputs": [
    {
     "name": "stdout",
     "output_type": "stream",
     "text": [
      "{'IL10': None, 'IL8': {0.49999999999999967, 'early_diff'}, 'IL1b': {0.49999999999999967, 'early_diff'}, 'TNFa': None, 'Mg': None}\n"
     ]
    }
   ],
   "source": [
    "import numpy as np\n",
    "import json\n",
    "import matplotlib.pyplot as plt\n",
    "import numpy as np\n",
    "import skfuzzy as fuzz\n",
    "from skfuzzy import control as ctrl\n",
    "class Fuzzy_controller:\n",
    "    def __init__(self,params):\n",
    "        self.antecedents = {}\n",
    "        self.consequents = {}\n",
    "        self.params = params\n",
    "        self.default_inputs = {}\n",
    "    def define_antecedents(self):\n",
    "        pass\n",
    "    def define_consequents(self):\n",
    "        #// define consequents\n",
    "        range_value = np.arange(0, 1, .01)\n",
    "        early_diff = ctrl.Consequent(range_value, 'early_diff')\n",
    "        late_diff = ctrl.Consequent(range_value, 'late_diff')\n",
    "        \n",
    "        #// define membership functions\n",
    "        sigma = .05\n",
    "        diff_intervals = [0,self.params['early_diff_L'],.5,self.params['early_diff_H'],self.params['early_diff_VH'], 1]\n",
    "        early_diff['Z']=fuzz.gaussmf(range_value, diff_intervals[0], sigma)\n",
    "        early_diff['L']=fuzz.gaussmf(range_value, diff_intervals[1], sigma)\n",
    "        early_diff['M']=fuzz.gaussmf(range_value, diff_intervals[2], sigma)\n",
    "        early_diff['H']=fuzz.gaussmf(range_value, diff_intervals[3], sigma)\n",
    "        early_diff['VH']=fuzz.gaussmf(range_value, diff_intervals[4], sigma)\n",
    "        early_diff['EH']=fuzz.gaussmf(range_value, diff_intervals[5], sigma)\n",
    "\n",
    "\n",
    "        diff_intervals = [0,self.params['late_diff_L'],.5,self.params['late_diff_H'], 1]\n",
    "        late_diff['Z']=fuzz.gaussmf(range_value, diff_intervals[0], sigma)\n",
    "        late_diff['L']=fuzz.gaussmf(range_value, diff_intervals[1], sigma)\n",
    "        late_diff['M']=fuzz.gaussmf(range_value, diff_intervals[2], sigma)\n",
    "        late_diff['H']=fuzz.gaussmf(range_value, diff_intervals[3], sigma)\n",
    "        late_diff['VH']=fuzz.gaussmf(range_value, diff_intervals[4], sigma)\n",
    "#         early_diff.view()\n",
    "        #// Store\n",
    "        self.consequents['early_diff'] = early_diff\n",
    "        self.consequents['late_diff'] = late_diff\n",
    "    def define_rules(self):\n",
    "        pass\n",
    "    def forward(self,inputs):\n",
    "        # print('inputs: {}'.format(inputs))\n",
    "        for key,value in inputs.items():\n",
    "            self.default_inputs[key] = value\n",
    "\n",
    "        for key,value in self.default_inputs.items():\n",
    "            self.controler.input[key] = value\n",
    "        self.controler.compute()\n",
    "        # for key,item in self.consequents.items():\n",
    "        #     item.view(sim=self.controler)\n",
    "        outputs = self.controler.output\n",
    "        # print('outputs: {}'.format(outputs))\n",
    "        return outputs\n",
    "class Fuzzy_IL8_IL1b(Fuzzy_controller):\n",
    "    def __init__(self,params):\n",
    "        super().__init__(params)\n",
    "        self.define_antecedents()\n",
    "        self.define_consequents()\n",
    "        self.define_rules()\n",
    "        self.default_inputs = {'IL8':0,'IL1b':0}\n",
    "\n",
    "    def define_antecedents(self):\n",
    "        #// define antecedents\n",
    "        intervals = [0,self.params['IL8_M'],100]\n",
    "        IL8 = ctrl.Antecedent(np.arange(intervals[0], intervals[-1], .005), 'IL8')\n",
    "        # print(IL10_intervals)\n",
    "        IL8['Neg'] = fuzz.trimf(IL8.universe, [intervals[0], intervals[0],intervals[1]])\n",
    "        IL8['Med'] = fuzz.trimf(IL8.universe, [intervals[0], intervals[1], intervals[2]])\n",
    "        IL8['High'] = fuzz.trimf(IL8.universe, [intervals[1], intervals[2], intervals[2]])\n",
    "        IL8['NNeg'] = fuzz.trapmf(IL8.universe, [intervals[0], intervals[1],intervals[-1],intervals[-1]])\n",
    "\n",
    "        #// store\n",
    "        self.antecedents['IL8']=IL8\n",
    "\n",
    "        intervals = [0,10,self.params['IL1b_H'],200]\n",
    "        IL1b = ctrl.Antecedent(np.arange(intervals[0], intervals[-1], .005), 'IL1b')\n",
    "        IL1b['Neg'] = fuzz.trimf(IL1b.universe, [intervals[0], intervals[0],intervals[1]])\n",
    "        IL1b['Stim'] = fuzz.trimf(IL1b.universe, [intervals[0], intervals[1], intervals[2]])\n",
    "        IL1b['High'] = fuzz.trapmf(IL1b.universe, [intervals[1], intervals[2], intervals[3],intervals[3]])\n",
    "        IL1b['NNeg'] = fuzz.trapmf(IL1b.universe, [intervals[0], intervals[1],intervals[-1],intervals[-1]])\n",
    "\n",
    "\n",
    "        self.antecedents['IL1b']=IL1b\n",
    "\n",
    "    def define_rules(self):\n",
    "        #// rules\n",
    "        IL8 = self.antecedents['IL8']\n",
    "        IL1b = self.antecedents['IL1b']\n",
    "        early_diff = self.consequents['early_diff']\n",
    "        late_diff = self.consequents['late_diff']\n",
    "        early_diff_rules = [\n",
    "            # only IL8\n",
    "            ctrl.Rule(IL1b['Neg'] & IL8['Neg'] , early_diff['M']),\n",
    "            ctrl.Rule(IL1b['Neg'] & IL8['Med'] , early_diff['VH']),\n",
    "            ctrl.Rule(IL1b['Neg'] & IL8['High'] , early_diff['EH']),\n",
    "            # only IL1b\n",
    "            ctrl.Rule(IL1b['Stim'] & IL8['Neg'] , early_diff['H']),\n",
    "            ctrl.Rule(IL1b['High'] & IL8['Neg'] , early_diff['M']),\n",
    "            # combined\n",
    "            ctrl.Rule(IL1b['NNeg'] & IL8['NNeg'] , early_diff['VH'])            \n",
    "\n",
    "        ]\n",
    "        rules = early_diff_rules\n",
    "        self.controler = ctrl.ControlSystemSimulation(ctrl.ControlSystem(rules))\n"
   ]
  },
  {
   "cell_type": "code",
   "execution_count": 17,
   "metadata": {},
   "outputs": [],
   "source": [
    "%config Completer.use_jedi = False\n",
    "showOriginalModelString = True\n",
    "from scipy.optimize import differential_evolution\n",
    "import numpy as np\n",
    "import json\n",
    "import matplotlib.pyplot as plt\n",
    "from skfuzzy import control as ctrl\n",
    "import skfuzzy as fuzz\n",
    "\n",
    "plt.rcParams[\"font.family\"] = \"serif\"\n",
    "plt.style.use('seaborn-deep')\n",
    "plt.rcParams[\"font.serif\"] = [\"Times New Roman\"] + plt.rcParams[\"font.serif\"]\n",
    "# from MSC_osteogenesis import *\n",
    "##/ post processing and plotting //##"
   ]
  },
  {
   "cell_type": "code",
   "execution_count": 105,
   "metadata": {},
   "outputs": [
    {
     "name": "stdout",
     "output_type": "stream",
     "text": [
      "0.0\n",
      "1.9\n",
      "1.48\n"
     ]
    }
   ],
   "source": [
    "from observations import observations\n",
    "\n",
    "with open('inferred_params.json') as file:\n",
    "    inferred_params = json.load(file)\n",
    "inferred_params['IL1b_d'] = 50\n",
    "obj = Fuzzy_IL8(inferred_params)\n",
    "obj.forward(inputs={'IL8':100})"
   ]
  },
  {
   "cell_type": "code",
   "execution_count": 22,
   "metadata": {},
   "outputs": [
    {
     "name": "stderr",
     "output_type": "stream",
     "text": [
      "/Users/matin/miniconda3/envs/v37_conda/lib/python3.7/site-packages/matplotlib/figure.py:457: UserWarning: matplotlib is currently using a non-GUI backend, so cannot show the figure\n",
      "  \"matplotlib is currently using a non-GUI backend, \"\n"
     ]
    },
    {
     "data": {
      "image/png": "[encoded data removed]",
      "text/plain": [
       "<Figure size 432x288 with 1 Axes>"
      ]
     },
     "metadata": {
      "needs_background": "light"
     },
     "output_type": "display_data"
    }
   ],
   "source": [
    "intervals = [0,10,100,200]\n",
    "IL1b = ctrl.Antecedent(np.arange(intervals[0], intervals[-1], .005), 'IL1b')\n",
    "IL1b['Neg'] = fuzz.trimf(IL1b.universe, [intervals[0], intervals[0],intervals[1]])\n",
    "IL1b['Stim'] = fuzz.trimf(IL1b.universe, [intervals[0], intervals[1], intervals[2]])\n",
    "IL1b['High'] = fuzz.trapmf(IL1b.universe, [intervals[1], intervals[2], intervals[3],intervals[3]])\n",
    "IL1b['NNeg'] = fuzz.trapmf(IL1b.universe, [intervals[0], intervals[1],intervals[-1],intervals[-1]])\n",
    "IL1b.view()"
   ]
  }
 ],
 "metadata": {
  "kernelspec": {
   "display_name": "Python [conda env:v37_conda] *",
   "language": "python",
   "name": "conda-env-v37_conda-py"
  },
  "language_info": {
   "codemirror_mode": {
    "name": "ipython",
    "version": 3
   },
   "file_extension": ".py",
   "mimetype": "text/x-python",
   "name": "python",
   "nbconvert_exporter": "python",
   "pygments_lexer": "ipython3",
   "version": "3.7.9"
  }
 },
 "nbformat": 4,
 "nbformat_minor": 4
}
