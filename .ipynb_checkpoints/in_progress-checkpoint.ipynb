{
 "cells": [
  {
   "cell_type": "code",
   "execution_count": 1,
   "metadata": {},
   "outputs": [],
   "source": [
    "%config Completer.use_jedi = False\n",
    "showOriginalModelString = True\n",
    "from scipy.optimize import differential_evolution\n",
    "import numpy as np\n",
    "import json\n",
    "import matplotlib.pyplot as plt\n",
    "plt.rcParams[\"font.family\"] = \"serif\"\n",
    "plt.style.use('seaborn-deep')\n",
    "plt.rcParams[\"font.serif\"] = [\"Times New Roman\"] + plt.rcParams[\"font.serif\"]\n",
    "from MSC_osteogenesis import *\n",
    "##/ post processing and plotting //##\n",
    "class Plot:\n",
    "    def __init__(self,study,observations):\n",
    "        self.graph_size = [5,5]\n",
    "        self.targets = observations[study]['measurement_scheme']\n",
    "        self.bar_width = .2\n",
    "        self.error_bar_width = .2\n",
    "        self.colors = ['lime' , 'violet', 'yellowgreen', 'peru', 'skyblue']\n",
    "        self.legend_font_size = 30\n",
    "        self.tick_font_size = 30\n",
    "        self.title_font_size = 30\n",
    "        self.delta = .1 # gap between exp and sim\n",
    "        self.study = study\n",
    "        self.observations = observations \n",
    "    def plot(self):\n",
    "        ##/ run the simulation\n",
    "        with open('inferred_params.json') as file:\n",
    "            inferred_params = json.load(file)\n",
    "        # inferred_params['a_late_diff_u'] = 20\n",
    "        obj = MSC_model(params = inferred_params)\n",
    "        simulation_results = obj.simulate_studies()\n",
    "        print(simulation_results)\n",
    "        ##/ sort out based on the targets\n",
    "        exp_target_results,sim_target_results = self.sort(simulation_results[self.study])\n",
    "        x_exp,x_sim = self.bar_positions(simulation_results[self.study])\n",
    "        ##/ plot for each target\n",
    "        target_n = len(self.targets)\n",
    "        for target,ii in zip(self.targets,range(target_n)):\n",
    "            fig = plt.figure(figsize=(self.graph_size[0],self.graph_size[1]))\n",
    "            fig.canvas.draw()\t\n",
    "            fig.tight_layout()\n",
    "            ax = fig.add_subplot(1,1,1)\n",
    "            ax.bar(x=x_exp,height=[exp_target_results[target][i]['mean'] for i in range(len(exp_target_results[target]))],width = self.bar_width, label = 'Exp', \n",
    "                    facecolor = self.colors[ii],\n",
    "                     edgecolor=\"black\", yerr =  0,\n",
    "                     error_kw = dict(capsize= self.error_bar_width))\n",
    "            ax.bar(x=x_sim,height=sim_target_results[target],width = self.bar_width, label = \"Sim\", \n",
    "                    facecolor = self.colors[ii+1],\n",
    "                     edgecolor=\"black\", yerr =  0,\n",
    "                     error_kw = dict(capsize= self.error_bar_width))\n",
    "            ax.legend(bbox_to_anchor=(2, 1),loc = 'upper right', borderaxespad=2,prop={ 'family':'Times New Roman','size':self.legend_font_size},ncol=1)\n",
    "        #     ax.set_ylim(yrange)\n",
    "            x_labels = [item.get_text() for item in ax.get_xticklabels()]\n",
    "            ax.set_xticks(ticks = [int(i) for i in range(len(self.observations[self.study]['IDs']))])\n",
    "            ax.set_xticklabels(self.adjust_x_label(self.observations[self.study]['IDs']))\n",
    "        #     ax.get_yaxis().set_major_formatter(\n",
    "        #         matplotlib.ticker.FuncFormatter(lambda x, p: format(int(x)/1000, ',')))\n",
    "            for label in (ax.get_xticklabels() + ax.get_yticklabels()):\n",
    "                label.set_fontname('Times New Roman')\n",
    "                label.set_fontsize(self.tick_font_size)\n",
    "            ax.set_ylabel('yaxis_title',fontdict ={'family':'Times New Roman','size':self.title_font_size})\n",
    "            ax.set_xlabel('Days',fontdict ={'family':'Times New Roman','size':self.title_font_size})\n",
    "\n",
    "            ax.set_title(target,fontdict ={'family':'Times New Roman','size':self.title_font_size, 'fontweight':'bold'})\n",
    "            plt.savefig(self.study+'_'+target+'.svg',bbox_inches='tight')\n",
    "\n",
    "    def sort(self,sim_results):\n",
    "        exp_target_results = {}\n",
    "        for target in self.targets:\n",
    "            exp_target_results[target] = []\n",
    "        for target in self.targets:\n",
    "            for ID in self.observations[self.study]['IDs']:\n",
    "                ID_observations = self.observations[self.study][ID]['expectations']\n",
    "                exp_target_results[target].append(ID_observations[target])\n",
    "        sim_target_results = {}\n",
    "        for target in self.targets:\n",
    "            sim_target_results[target] = []\n",
    "        for target in self.targets:\n",
    "            for ID,ID_result in sim_results.items():\n",
    "                sim_target_results[target].append(ID_result[target])\n",
    "        return exp_target_results,sim_target_results\n",
    "    def bar_positions(self,sim_results):\n",
    "        for i in range(len(self.targets)):\n",
    "            x_exp =[float(j) + self.delta for j in range(len(sim_results.keys()))]\n",
    "            x_sim =[float(j) - self.delta for j in range(len(sim_results.keys()))]\n",
    "        return x_exp,x_sim\n",
    "\n",
    "    def adjust_x_label(self,labels):\n",
    "        adj_labels = []\n",
    "        for label in labels:\n",
    "            if label == 'ctr':\n",
    "                adj_labels.append('0')\n",
    "            elif label == 'IL10_.01':\n",
    "                adj_labels.append('0.01')\n",
    "            elif label == 'IL10_.1':\n",
    "                adj_labels.append('0.1')\n",
    "            elif label == 'IL10_1':\n",
    "                adj_labels.append('1')\n",
    "            elif label == 'IL10_10':\n",
    "                adj_labels.append('10')\n",
    "            elif label == 'IL10_100':\n",
    "                adj_labels.append('100')\n",
    "            else:\n",
    "                raise('not defined')\n",
    "        return adj_labels\n"
   ]
  },
  {
   "cell_type": "code",
   "execution_count": 2,
   "metadata": {},
   "outputs": [
    {
     "name": "stdout",
     "output_type": "stream",
     "text": [
      "{'Valles_2020_part1': {'ctr': {'ARS': 648.469386268754}, 'IL10_.1': {'ARS': 940.2915359097054}, 'IL10_1': {'ARS': 970.0903867283525}, 'IL10_10': {'ARS': 1361.8208805016318}}}\n"
     ]
    },
    {
     "data": {
      "image/png": "[encoded data removed]",
      "text/plain": [
       "<Figure size 360x360 with 1 Axes>"
      ]
     },
     "metadata": {
      "needs_background": "light"
     },
     "output_type": "display_data"
    }
   ],
   "source": [
    "##/ calibrate\n",
    "# calib_obj = Calibrate(free_params)\n",
    "# calib_obj.optimize()\n",
    "\n",
    "##/ run test simultions and plot\n",
    "study = 'Valles_2020_part1'\n",
    "# \tstudy = 'Valles_2020_part1'\n",
    "from observations import observations\n",
    "plot_obj = Plot(study,observations)\n",
    "plot_obj.plot()"
   ]
  }
 ],
 "metadata": {
  "kernelspec": {
   "display_name": "Python [conda env:v37_conda] *",
   "language": "python",
   "name": "conda-env-v37_conda-py"
  },
  "language_info": {
   "codemirror_mode": {
    "name": "ipython",
    "version": 3
   },
   "file_extension": ".py",
   "mimetype": "text/x-python",
   "name": "python",
   "nbconvert_exporter": "python",
   "pygments_lexer": "ipython3",
   "version": "3.7.9"
  }
 },
 "nbformat": 4,
 "nbformat_minor": 4
}
