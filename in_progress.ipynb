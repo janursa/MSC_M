{
 "cells": [
  {
   "cell_type": "code",
   "execution_count": 1,
   "metadata": {},
   "outputs": [],
   "source": [
    "%config Completer.use_jedi = False\n",
    "showOriginalModelString = True\n",
    "from scipy.optimize import differential_evolution\n",
    "import numpy as np\n",
    "import json\n",
    "import matplotlib.pyplot as plt\n",
    "plt.rcParams[\"font.family\"] = \"serif\"\n",
    "plt.style.use('seaborn-deep')\n",
    "plt.rcParams[\"font.serif\"] = [\"Times New Roman\"] + plt.rcParams[\"font.serif\"]\n",
    "# from MSC_osteogenesis import *\n",
    "##/ post processing and plotting //##"
   ]
  },
  {
   "cell_type": "code",
   "execution_count": 78,
   "metadata": {},
   "outputs": [
    {
     "data": {
      "text/plain": [
       "OrderedDict([('early_diff', 0.9532212841848025)])"
      ]
     },
     "execution_count": 78,
     "metadata": {},
     "output_type": "execute_result"
    }
   ],
   "source": [
    "import numpy as np\n",
    "import json\n",
    "import matplotlib.pyplot as plt\n",
    "import numpy as np\n",
    "import skfuzzy as fuzz\n",
    "from skfuzzy import control as ctrl\n",
    "class Fuzzy_controller:\n",
    "    def __init__(self,params):\n",
    "        self.antecedents = {}\n",
    "        self.consequents = {}\n",
    "        self.params = params\n",
    "    def define_antecedents(self):\n",
    "        pass\n",
    "    def define_consequents(self):\n",
    "        #// define consequents\n",
    "        range_value = np.arange(0, 1, .01)\n",
    "        early_diff = ctrl.Consequent(range_value, 'early_diff')\n",
    "        late_diff = ctrl.Consequent(range_value, 'late_diff')\n",
    "        \n",
    "        #// define membership functions\n",
    "        sigma = .05\n",
    "        diff_intervals = [0,self.params['early_diff_L'],.5,self.params['early_diff_H'], 1]\n",
    "        early_diff['Z']=fuzz.gaussmf(range_value, diff_intervals[0], sigma)\n",
    "        early_diff['L']=fuzz.gaussmf(range_value, diff_intervals[1], sigma)\n",
    "        early_diff['M']=fuzz.gaussmf(range_value, diff_intervals[2], sigma)\n",
    "        early_diff['H']=fuzz.gaussmf(range_value, diff_intervals[3], sigma)\n",
    "        early_diff['VH']=fuzz.gaussmf(range_value, diff_intervals[4], sigma)\n",
    "\n",
    "        diff_intervals = [0,self.params['late_diff_L'],.5,self.params['late_diff_H'], 1]\n",
    "        late_diff['Z']=fuzz.gaussmf(range_value, diff_intervals[0], sigma)\n",
    "        late_diff['L']=fuzz.gaussmf(range_value, diff_intervals[1], sigma)\n",
    "        late_diff['M']=fuzz.gaussmf(range_value, diff_intervals[2], sigma)\n",
    "        late_diff['H']=fuzz.gaussmf(range_value, diff_intervals[3], sigma)\n",
    "        late_diff['VH']=fuzz.gaussmf(range_value, diff_intervals[4], sigma)\n",
    "#         early_diff.view()\n",
    "        #// Store\n",
    "        self.consequents['early_diff'] = early_diff\n",
    "        self.consequents['late_diff'] = late_diff\n",
    "    def define_rules(self):\n",
    "        pass\n",
    "    def forward(self,inputs):\n",
    "        # print('inputs: {}'.format(inputs))\n",
    "        for key,value in inputs.items():\n",
    "            self.controler.input[key] = value\n",
    "        self.controler.compute()\n",
    "        # for key,item in self.consequents.items():\n",
    "        #     item.view(sim=self.controler)\n",
    "        outputs = self.controler.output\n",
    "        # print('outputs: {}'.format(outputs))\n",
    "        return outputs\n",
    "\n",
    "class Fuzzy_IL8(Fuzzy_controller):\n",
    "    def __init__(self,params):\n",
    "        super().__init__(params)\n",
    "        self.define_antecedents()\n",
    "        self.define_consequents()\n",
    "        self.define_rules()\n",
    "    def define_antecedents(self):\n",
    "        #// define antecedents\n",
    "        intervals = [0,self.params['IL8_M'],100]\n",
    "        IL8 = ctrl.Antecedent(np.arange(intervals[0], intervals[-1], .005), 'IL8')\n",
    "        # print(IL10_intervals)\n",
    "        IL8['Neg'] = fuzz.trimf(IL8.universe, [intervals[0], intervals[0],intervals[1]])\n",
    "        IL8['Med'] = fuzz.trimf(IL8.universe, [intervals[0], intervals[1], intervals[2]])\n",
    "        IL8['High'] = fuzz.trimf(IL8.universe, [intervals[1], intervals[2], intervals[2]])\n",
    "        #// store\n",
    "        self.antecedents['IL8']=IL8\n",
    "\n",
    "    def define_rules(self):\n",
    "        #// rules\n",
    "        IL8 = self.antecedents['IL8']\n",
    "        early_diff = self.consequents['early_diff']\n",
    "        late_diff = self.consequents['late_diff']\n",
    "        early_diff_rules = [\n",
    "            ctrl.Rule(IL8['High'] , early_diff['VH']),\n",
    "            ctrl.Rule(IL8['Med'] , early_diff['H']),\n",
    "            ctrl.Rule(IL8['Neg'] , early_diff['M'])\n",
    "        ]\n",
    "        rules = early_diff_rules\n",
    "        self.controler = ctrl.ControlSystemSimulation(ctrl.ControlSystem(rules))\n",
    "from observations import observations\n",
    "\n",
    "with open('inferred_params.json') as file:\n",
    "    inferred_params = json.load(file)\n",
    "inferred_params['IL1b_d'] = 50\n",
    "obj = Fuzzy_IL8(inferred_params)\n",
    "obj.forward(inputs={'IL8':100})"
   ]
  },
  {
   "cell_type": "code",
   "execution_count": 105,
   "metadata": {},
   "outputs": [
    {
     "name": "stdout",
     "output_type": "stream",
     "text": [
      "0.0\n",
      "1.9\n",
      "1.48\n"
     ]
    }
   ],
   "source": [
    "def scale(x,factor_u, factor_d): \n",
    "        \"\"\"\n",
    "        Scale the fuzzy controller's output cosidering that the origin is x=0.5\n",
    "        The scalling is done differently for x > 0.5 than x < 0.5\n",
    "        x: fuzzy output\n",
    "        factor: scale factor\n",
    "        \"\"\"\n",
    "        if x >= 0.5:\n",
    "            f = 2*factor_u*(x-0.5)+1\n",
    "        else:\n",
    "            f = 2*factor_d*(x-0.5)+1\n",
    "        return f\n",
    "print(scale(x=0,factor_u = 1,factor_d= 1))\n",
    "print(scale(x=.95,factor_u = 1,factor_d= 1))\n",
    "print(scale(x=.74,factor_u = 1,factor_d= 1))"
   ]
  }
 ],
 "metadata": {
  "kernelspec": {
   "display_name": "Python [conda env:v37_conda] *",
   "language": "python",
   "name": "conda-env-v37_conda-py"
  },
  "language_info": {
   "codemirror_mode": {
    "name": "ipython",
    "version": 3
   },
   "file_extension": ".py",
   "mimetype": "text/x-python",
   "name": "python",
   "nbconvert_exporter": "python",
   "pygments_lexer": "ipython3",
   "version": "3.7.9"
  }
 },
 "nbformat": 4,
 "nbformat_minor": 4
}
