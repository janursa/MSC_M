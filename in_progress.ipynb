{
 "cells": [
  {
   "cell_type": "code",
   "execution_count": 12,
   "metadata": {},
   "outputs": [
    {
     "name": "stdout",
     "output_type": "stream",
     "text": [
      "{'IL10': None, 'IL8': {0.49999999999999967, 'early_diff'}, 'IL1b': {0.49999999999999967, 'early_diff'}, 'TNFa': None, 'Mg': None}\n"
     ]
    }
   ],
   "source": [
    "ff = {'IL10': None, 'IL8': {'early_diff', 0.49999999999999967}, 'IL1b': {'early_diff', 0.49999999999999967}, 'TNFa': None, 'Mg': None}\n",
    "def interactions(fs):\n",
    "    \"\"\"\n",
    "    defines the interaction between different fuzzy values\n",
    "    \"\"\"\n",
    "\n",
    "    IL8_flag = 'IL8' in fs.keys()\n",
    "    IL1b_flag = 'IL1b' in fs.keys()\n",
    "    if  IL8_flag & IL1b_flag:\n",
    "        print(fs)\n",
    "        IL8_f = fs['IL8']['early_diff']\n",
    "        IL1b_f = fs['IL8']['early_diff']\n",
    "    else:\n",
    "        for key,value in fs.items():\n",
    "            if value != None:\n",
    "                return value\n",
    "interactions(ff)"
   ]
  },
  {
   "cell_type": "code",
   "execution_count": 1,
   "metadata": {},
   "outputs": [],
   "source": [
    "%config Completer.use_jedi = False\n",
    "showOriginalModelString = True\n",
    "from scipy.optimize import differential_evolution\n",
    "import numpy as np\n",
    "import json\n",
    "import matplotlib.pyplot as plt\n",
    "plt.rcParams[\"font.family\"] = \"serif\"\n",
    "plt.style.use('seaborn-deep')\n",
    "plt.rcParams[\"font.serif\"] = [\"Times New Roman\"] + plt.rcParams[\"font.serif\"]\n",
    "# from MSC_osteogenesis import *\n",
    "##/ post processing and plotting //##"
   ]
  },
  {
   "cell_type": "code",
   "execution_count": 105,
   "metadata": {},
   "outputs": [
    {
     "name": "stdout",
     "output_type": "stream",
     "text": [
      "0.0\n",
      "1.9\n",
      "1.48\n"
     ]
    }
   ],
   "source": [
    "from observations import observations\n",
    "\n",
    "with open('inferred_params.json') as file:\n",
    "    inferred_params = json.load(file)\n",
    "inferred_params['IL1b_d'] = 50\n",
    "obj = Fuzzy_IL8(inferred_params)\n",
    "obj.forward(inputs={'IL8':100})"
   ]
  }
 ],
 "metadata": {
  "kernelspec": {
   "display_name": "Python [conda env:v37_conda] *",
   "language": "python",
   "name": "conda-env-v37_conda-py"
  },
  "language_info": {
   "codemirror_mode": {
    "name": "ipython",
    "version": 3
   },
   "file_extension": ".py",
   "mimetype": "text/x-python",
   "name": "python",
   "nbconvert_exporter": "python",
   "pygments_lexer": "ipython3",
   "version": "3.7.9"
  }
 },
 "nbformat": 4,
 "nbformat_minor": 4
}
